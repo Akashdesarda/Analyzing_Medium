{
 "cells": [
  {
   "cell_type": "markdown",
   "metadata": {},
   "source": [
    "# Medium Author Data Restrictions\n",
    "In this notebook I will continue the analysis of the Medium_author-metric notebook. Spectifically I will try to narrow down the metric to only measure Authors who consistently post on Medium.\n",
    "\n",
    "<b>This notebook is a prototype, as it contains some questionable manipulation of the data. Because of this, it is not intended to be viewed with anything other than a critical eye.. </b> \n",
    "\n",
    "## Where the data came from.\n",
    "\n",
    "I pulled this data from Medium's archive pages. Each archive page is associated to a story-tag and is a collection of Medium timeline cards organized by date.\n",
    "\n",
    "#### Image of the \"data-science\" Archive\n",
    "\n",
    "<img src=\"img/archive.jpg\" width=500>\n",
    "\n",
    "\n",
    "\n",
    "\n",
    "### How the data was scraped\n",
    "The data was pulled from from  36 popular Medium story-tag archives. Each archive was <b>scraped for each day between Aug 1, 2017 and Aug 1, 2018.</b>\n",
    "\n",
    "These dates were chosen because:\n",
    "1. Medium's clap metric was introduced in August 2017, and older posts might not be relevant. \n",
    "2. The popularity of Medium may have grown, so older posts may not generalize to the preformance of posts today. \n",
    "3. The end date was chosen so that newer posts (September) were not included, as they have not had time to mature and accumulate claps.\n",
    "\n",
    "#### 36 Tags Scraped\n",
    "['ai', 'artificial-intelligence',\n",
    " 'blogging', 'business',\n",
    " 'data-science', 'design',\n",
    " 'education', 'entrepreneurship',\n",
    " 'health', 'humor',\n",
    " 'inspiration', 'javascript',\n",
    " 'leadership', 'life',\n",
    " 'life-lessons', 'love',\n",
    " 'machine-learning', 'marketing',\n",
    " 'motivation', 'personal-development',\n",
    " 'poetry', 'politics',\n",
    " 'productivity', 'programming',\n",
    " 'python', 'racism',\n",
    " 'science', 'self-improvement',\n",
    " 'software-engineering', 'startup',\n",
    " 'tech', 'technology',\n",
    " 'travel', 'web-design',\n",
    " 'web-development', 'writing']\n",
    " \n",
    "## Purpose of the Data\n",
    " 1. To <b>create a performance metric for Medium's authors</b>, so they can compare their work to the rest of Medium.\n",
    " 2. To <b>compare the performance of authors and publications</b> on Medium.\n",
    " 3. To <b>create a leaderboard</b> of the top performing authors and publications in each tag .\n",
    " \n",
    " 4. To <b>find the differences that distinguish well-received articles.</b>\n",
    " \n",
    " \n",
    "\n",
    "\n",
    "## Structure of the data\n",
    "- Title -title of article on timeline card\n",
    "- Subtitle  -subtitle of article on timeline card\n",
    "- Image (yes/no)-whether the article has a preview image on its timeline card\n",
    "- Author -writerr of the story\n",
    "- Publication - the name of the publication the article may have been posted in\n",
    "- Year - Month - Day-date the article was published\n",
    "- Tag (One-Hot-Encoded)\n",
    "- Reading Time- Time to read the article\n",
    "- Claps-Number of claps the article received\n",
    "- Comment (yes/no)-whether the entry is a comment on another article\n",
    "- Story Url-link to story\n",
    "- Author URL-link to Author's Medium homepage\n",
    "\n",
    "<img src=\"img/card.png\" width=500>\n",
    "\n",
    "## Overview of Data Cleaning\n",
    "\n",
    "<b>Before cleaning: 993k entries</b>\n",
    "\n",
    "- Removed comment entries (-63k)\n",
    "- Removed articles reposted by author on different date (-21k)\n",
    "- Combined multi-tagged articles, that appeared on different archive pages. (-189k)\n",
    "\n",
    "<b>After cleaning: 720k entries</b>"
   ]
  },
  {
   "cell_type": "code",
   "execution_count": 1,
   "metadata": {
    "collapsed": true
   },
   "outputs": [],
   "source": [
    "import os \n",
    "import pandas as pd\n",
    "import matplotlib.pyplot as plt\n",
    "import seaborn as sns\n",
    "import numpy as np\n",
    "#myscreen dpi for fine-tuning figure sizes for Medium\n",
    "dpi=144\n",
    "\n",
    "medium = pd.read_csv(\"Medium_Clean.csv\")\n",
    "medium = medium.drop(\"Unnamed: 0\", axis=1)"
   ]
  },
  {
   "cell_type": "markdown",
   "metadata": {},
   "source": [
    "======================================================================================\n",
    "## Putting more restrictions on our data\n",
    "\n",
    "We are looking to create a <b>metric  for consistent writers to judge their work. </b> The current data is composed of anyone who writes on Medium. (not necessarily consistent authors)\n",
    "\n",
    "If we throw in everyone into the same pot we will naturally see a lot of underperformers. We need to isolate the authors who only post once or twice, or use Medium in ways that it is not intended to be used..\n",
    "\n",
    "### Ideas?\n",
    "- Remove articles with reading time of 0 and 1 minutes.\n",
    "- Remove Authors with only one (or two?) posts.\n",
    "- Remove Authors who do not post at least once a month."
   ]
  },
  {
   "cell_type": "code",
   "execution_count": 2,
   "metadata": {
    "collapsed": true
   },
   "outputs": [],
   "source": [
    "#this will be the dataframe that we remove entries from.\n",
    "# that way our summary statistics will be relevant to the entire population\n",
    "restrictMedium = medium"
   ]
  },
  {
   "cell_type": "markdown",
   "metadata": {},
   "source": [
    "<hr>\n",
    "## Removing Excessively Short Articles (Read Time < 2 Minutes)\n",
    "\n",
    "Potential concers, this may remove poetry (Legit Writer). It will also remove posts containing only a photo (Instagram like post). As well as posts that simply repost other content. (Not Writers) \n",
    "\n",
    "\n",
    "### 18% of all articles have read time < 2 minutes."
   ]
  },
  {
   "cell_type": "code",
   "execution_count": 3,
   "metadata": {},
   "outputs": [
    {
     "name": "stdout",
     "output_type": "stream",
     "text": [
      "Number of entries with reading time < 2:  128807\n",
      "As a percentage of all data:  17.9 %\n"
     ]
    }
   ],
   "source": [
    "shorts= medium[medium.Reading_Time<2]\n",
    "print(\"Number of entries with reading time < 2: \", shorts.shape[0])\n",
    "print(\"As a percentage of all data: \" , round((shorts.shape[0]/medium.shape[0])*100,1), \"%\") "
   ]
  },
  {
   "cell_type": "markdown",
   "metadata": {},
   "source": [
    "### Short articles have lower performance than longer articles (Median claps = 0)"
   ]
  },
  {
   "cell_type": "code",
   "execution_count": 4,
   "metadata": {},
   "outputs": [
    {
     "data": {
      "image/png": "[encoded data removed]",
      "text/plain": [
       "<Figure size 864x432 with 2 Axes>"
      ]
     },
     "metadata": {},
     "output_type": "display_data"
    }
   ],
   "source": [
    "avs=[]\n",
    "medians=[]\n",
    "readts=[]\n",
    "entries = []\n",
    "for x in range(15):\n",
    "    medians.append(medium[medium.Reading_Time==x].Claps.quantile(q=0.5))\n",
    "    readts.append(x)\n",
    "    entries.append(medium[medium.Reading_Time==x].shape[0])\n",
    "    \n",
    "f, (ax1, ax2) = plt.subplots(2, 1, sharex=True, figsize=(12,6))\n",
    "\n",
    "ax1.bar(readts, medians,color = \"mediumseagreen\")\n",
    "ax1.hlines(medium.Claps.quantile(q=0.5),-2,15,color=\"orange\",\n",
    "           linestyle=\"dashed\",\n",
    "           label=\"All Articles Median Claps\")\n",
    "ax1.set_title(\"Median Claps by Read Time\")\n",
    "plt.ylabel(\"Median Claps\")\n",
    "ax1.legend()\n",
    "plt.xlabel(\"Article Read_Time\")\n",
    "\n",
    "ax2.bar(readts,entries, color=\"mediumseagreen\")\n",
    "ax2.set_title(\"Number of Articles by Read Time\")\n",
    "plt.ylabel(\"# Articles\")\n",
    "plt.xlabel(\"Article Read Time\")\n",
    "plt.xlim(-0.5,14.5)\n",
    "plt.show()"
   ]
  },
  {
   "cell_type": "code",
   "execution_count": 5,
   "metadata": {},
   "outputs": [
    {
     "name": "stdout",
     "output_type": "stream",
     "text": [
      "Total articles removed:  128807\n",
      "Percent of all articles removed:  17.9 %\n"
     ]
    }
   ],
   "source": [
    "#HERE WE DELETE THE ENTRIES IN THE RESTRICTEDMEDIUM DATAFRAME\n",
    "medium_noShorts = restrictMedium[restrictMedium.Reading_Time>=2]\n",
    "print(\"Total articles removed: \", restrictMedium.shape[0]-medium_noShorts.shape[0])\n",
    "print(\"Percent of all articles removed: \", round(100-(medium_noShorts.shape[0]*100/restrictMedium.shape[0]),1), \"%\")\n",
    "restrictMedium = medium_noShorts"
   ]
  },
  {
   "cell_type": "markdown",
   "metadata": {},
   "source": [
    "<hr>\n",
    "## Removing Authors with Only One Post\n",
    "We scraped data from over a year of Medium archive pages Aug-1-2017 to Aug-1-2018. If an author only writes one post in a year they aren't a consistent writer.\n",
    "\n",
    "\n",
    "### 18% of all articles will be the first (and last) post written by a Medium Author."
   ]
  },
  {
   "cell_type": "code",
   "execution_count": 6,
   "metadata": {},
   "outputs": [
    {
     "name": "stdout",
     "output_type": "stream",
     "text": [
      "18.2 % percent of articles are attributed to single-post authors.\n"
     ]
    }
   ],
   "source": [
    "#Author counts\n",
    "auth_counts = medium.Author.value_counts()\n",
    "#authors with one post\n",
    "OTPosters = auth_counts[auth_counts==1].index.values\n",
    "#All articles from one-time-posters\n",
    "OTP = medium[medium.Author.isin(OTPosters)]\n",
    "print(round(auth_counts[auth_counts==1].sum()*100/auth_counts.sum(),1),\"% percent of articles are attributed to single-post authors.\" )"
   ]
  },
  {
   "cell_type": "markdown",
   "metadata": {},
   "source": [
    "### One-time-posters receive fewer claps. \n",
    "\n",
    "We see below that the population of articles from one time posters accounts for a lot of the low-performing articles in our dataset."
   ]
  },
  {
   "cell_type": "code",
   "execution_count": 7,
   "metadata": {},
   "outputs": [
    {
     "name": "stdout",
     "output_type": "stream",
     "text": [
      "Entire Population Median article claps: 128.34442142136447\n",
      "One-Time-Posters Median article claps: 73.80801851598069\n"
     ]
    }
   ],
   "source": [
    "print(\"Entire Population Median article claps:\",medium.Claps.mean())\n",
    "print(\"One-Time-Posters Median article claps:\",OTP.Claps.mean())"
   ]
  },
  {
   "cell_type": "markdown",
   "metadata": {},
   "source": [
    "### 57% of Medium authors from 8/2017-8/2018 wrote one post then stopped writing."
   ]
  },
  {
   "cell_type": "code",
   "execution_count": 8,
   "metadata": {},
   "outputs": [
    {
     "name": "stdout",
     "output_type": "stream",
     "text": [
      "57.0 % percent of authors are one-time posters.\n"
     ]
    }
   ],
   "source": [
    "print(round(OTPosters.shape[0]*100/auth_counts.shape[0],1), \"% percent of authors are one-time posters.\")"
   ]
  },
  {
   "cell_type": "code",
   "execution_count": 9,
   "metadata": {},
   "outputs": [
    {
     "name": "stdout",
     "output_type": "stream",
     "text": [
      "Total articles removed:  118348\n",
      "Percent of all articles removed:  20.0 %\n"
     ]
    }
   ],
   "source": [
    "#HERE WE DELETE THE ENTRIES IN THE RESTRICTEDMEDIUM DATAFRAME\n",
    "#Author counts\n",
    "auth_counts = restrictMedium.Author.value_counts()\n",
    "#authors with one post\n",
    "OTPosters = auth_counts[auth_counts==1].index.values\n",
    "no_OTP = restrictMedium[~restrictMedium.Author.isin(OTPosters)]\n",
    "print(\"Total articles removed: \", restrictMedium.shape[0]-no_OTP.shape[0])\n",
    "print(\"Percent of all articles removed: \", round(100-(no_OTP.shape[0]*100/restrictMedium.shape[0]),1), \"%\")\n",
    "restrictMedium = no_OTP"
   ]
  },
  {
   "cell_type": "markdown",
   "metadata": {},
   "source": [
    "----------------------------------------------------------------------------------------------------------------------\n",
    "## Removing Inconsistent Authors\n",
    "To make a metric for consistent Medium authors, we will need to remove all posts written by inconsistent writers. Inconsistent authors write less than one article a month."
   ]
  },
  {
   "cell_type": "code",
   "execution_count": 10,
   "metadata": {
    "collapsed": true
   },
   "outputs": [],
   "source": [
    "import datetime\n",
    "\n",
    "#combines day, month, and year into one datetime object column\n",
    "medium[\"Date\"] = medium.apply(lambda row: datetime.date(row[\"Year\"], row[\"Month\"], row[\"Day\"]),axis=1)\n",
    "\n",
    "#creates a subdataframe\n",
    "auths_dates =  medium.loc[:,[\"Author\",\"Year\",\"Month\", \"Date\"]]\n",
    "\n",
    "#creates a count column that we can sum during groupby op to get total articles\n",
    "auths_dates[\"Count\"]=1"
   ]
  },
  {
   "cell_type": "markdown",
   "metadata": {},
   "source": [
    "### Caveat \n",
    "MonthArticleRatio =  Months an author has been on Medium - Number of posts by author\n",
    "\n",
    "Though this will miss removing some authors that posted alot at one time, it will do the job that we need it to. Next we will remove all authors with a MARatio < 0, which <b>will remove all authors whose Total Articles < Months on Medium.</b>\n",
    "    \n",
    "Notice that this script would not have removed one-time-posters as Months on Medium = Total Articles."
   ]
  },
  {
   "cell_type": "markdown",
   "metadata": {},
   "source": [
    "### 86% of authors write an article every month they have been on Medium."
   ]
  },
  {
   "cell_type": "code",
   "execution_count": 11,
   "metadata": {},
   "outputs": [
    {
     "name": "stdout",
     "output_type": "stream",
     "text": [
      "Percentage of authors that are consistent:  86.4 %\n"
     ]
    }
   ],
   "source": [
    "grouped_auth = auths_dates.groupby(\"Author\")\n",
    "MonthArticleRatio = grouped_auth.apply(lambda x: x.Count.sum()-round((x.Date.max()-x.Date.min()).days/30,1))\n",
    "print(\"Percentage of authors that are consistent: \",round(MonthArticleRatio[MonthArticleRatio>=0].shape[0]*100/MonthArticleRatio.shape[0],1), \"%\")\n",
    "consistentAuthors = MonthArticleRatio[MonthArticleRatio>=0].index"
   ]
  },
  {
   "cell_type": "code",
   "execution_count": 12,
   "metadata": {},
   "outputs": [
    {
     "name": "stderr",
     "output_type": "stream",
     "text": [
      "C:\\Users\\Harrison\\Anaconda3\\envs\\py36\\lib\\site-packages\\ipykernel\\__main__.py:3: SettingWithCopyWarning: \n",
      "A value is trying to be set on a copy of a slice from a DataFrame.\n",
      "Try using .loc[row_indexer,col_indexer] = value instead\n",
      "\n",
      "See the caveats in the documentation: http://pandas.pydata.org/pandas-docs/stable/indexing.html#indexing-view-versus-copy\n",
      "  app.launch_new_instance()\n"
     ]
    },
    {
     "name": "stdout",
     "output_type": "stream",
     "text": [
      "Total articles removed:  98131\n",
      "Percent of all articles removed:  20.7 %\n"
     ]
    }
   ],
   "source": [
    "#HERE WE DELETE THE ENTRIES IN THE RESTRICTEDMEDIUM DATAFRAME\n",
    "#combines day, month, and year into one datetime object column\n",
    "restrictMedium[\"Date\"] = restrictMedium.apply(lambda row: datetime.date(row[\"Year\"], row[\"Month\"], row[\"Day\"]),axis=1)\n",
    "#creates a subdataframe\n",
    "auths_dates =  restrictMedium.loc[:,[\"Author\",\"Year\",\"Month\", \"Date\"]]\n",
    "#creates a count column that we can sum during groupby op to get total articles\n",
    "auths_dates[\"Count\"]=1\n",
    "grouped_auth = auths_dates.groupby(\"Author\")\n",
    "MonthArticleRatio = grouped_auth.apply(lambda x: x.Count.sum()-round((x.Date.max()-x.Date.min()).days/30,1))\n",
    "consistentAuthors = MonthArticleRatio[MonthArticleRatio>=0].index\n",
    "mediumConsistent = restrictMedium[restrictMedium.Author.isin(consistentAuthors)]\n",
    "print(\"Total articles removed: \", restrictMedium.shape[0]-mediumConsistent.shape[0])\n",
    "print(\"Percent of all articles removed: \", round(100-(mediumConsistent.shape[0]*100/restrictMedium.shape[0]),1), \"%\")\n",
    "restrictMedium = mediumConsistent"
   ]
  },
  {
   "cell_type": "markdown",
   "metadata": {},
   "source": [
    "# Analyzing the Restricted Data\n",
    "Now we have two dataframes, \"medium\" which consists of all Medium articles w/ no deletions, and the \"restrictMedium\" dataframe which <b>removed short articles, one-time-posters, and inconsistent authors</b>. \n",
    "\n",
    "\n",
    "Before restrictions: 720k articles, 230k authors, 30k publications\n",
    "\n",
    "<b>After restrictions: 493k articles (-32%), 175k authors(-24%), 23k publications(-23%)</b>\n",
    "\n"
   ]
  },
  {
   "cell_type": "code",
   "execution_count": 13,
   "metadata": {},
   "outputs": [
    {
     "name": "stdout",
     "output_type": "stream",
     "text": [
      "Number of Articles:  375247\n",
      "Number of Authors:  56970\n",
      "Number of Publications:  13073\n",
      "Number of Tags:  36\n"
     ]
    }
   ],
   "source": [
    "print(\"Number of Articles: \", restrictMedium.shape[0])\n",
    "print(\"Number of Authors: \", restrictMedium.Author.value_counts().shape[0])\n",
    "print(\"Number of Publications: \", restrictMedium.Publication.value_counts().shape[0])\n",
    "print(\"Number of Tags: \", restrictMedium.columns[12:-1].shape[0])"
   ]
  },
  {
   "cell_type": "code",
   "execution_count": 14,
   "metadata": {},
   "outputs": [
    {
     "data": {
      "image/png": "[encoded data removed]",
      "text/plain": [
       "<Figure size 720x432 with 1 Axes>"
      ]
     },
     "metadata": {},
     "output_type": "display_data"
    }
   ],
   "source": [
    "#KDE plot, shade below curve, clip arg includes values of 0 to 20000\n",
    "plt.figure(figsize=(10,6))\n",
    "sns.kdeplot(restrictMedium.Claps, shade=True, legend=False, clip=[-1,20000],color = \"mediumseagreen\" )\n",
    "plt.title(\"Distribution of Claps Across Medium's Consistent Authors\")\n",
    "plt.ylabel(\"Article Frequency\")\n",
    "plt.xlabel(\"Claps\")\n",
    "plt.yticks([])\n",
    "plt.xlim(0,20000)\n",
    "plt.show()"
   ]
  },
  {
   "cell_type": "code",
   "execution_count": 15,
   "metadata": {},
   "outputs": [
    {
     "name": "stdout",
     "output_type": "stream",
     "text": [
      "Percentiles of Number of Claps\n",
      "MEDIAN 50th : 3.0\n",
      "90th : 249.0\n",
      "99th : 2754.0\n",
      "99.9th : 15275.4\n"
     ]
    }
   ],
   "source": [
    "print(\"Percentiles of Number of Claps\")\n",
    "print(\"MEDIAN 50th :\", restrictMedium.Claps.quantile(q=0.5))\n",
    "print(\"90th :\", restrictMedium.Claps.quantile(q=0.90))\n",
    "print(\"99th :\", round(restrictMedium.Claps.quantile(q=0.99),1))\n",
    "print(\"99.9th :\", round(restrictMedium.Claps.quantile(q=0.999),1))"
   ]
  },
  {
   "cell_type": "code",
   "execution_count": null,
   "metadata": {
    "collapsed": true
   },
   "outputs": [],
   "source": []
  },
  {
   "cell_type": "code",
   "execution_count": 16,
   "metadata": {},
   "outputs": [
    {
     "data": {
      "image/png": "[encoded data removed]",
      "text/plain": [
       "<Figure size 864x432 with 1 Axes>"
      ]
     },
     "metadata": {},
     "output_type": "display_data"
    }
   ],
   "source": [
    "nine2 = restrictMedium.Claps.quantile(q=0.99)\n",
    "\n",
    "plt.figure(figsize=(12,6))\n",
    "sns.kdeplot(restrictMedium.Claps, shade=True, legend=False,cut=3,clip=[-5,20000], color=\"mediumseagreen\")\n",
    "plt.title(\"Distribution of Claps Across Medium's Consistent Writers\")\n",
    "plt.ylabel(\"Article Frequency\")\n",
    "plt.xlabel(\"Claps\")\n",
    "plt.xlim(-5,20000)\n",
    "plt.xticks([0,nine2,5000,10000,15000,20000])\n",
    "plt.yticks([])\n",
    "\n",
    "\n",
    "plt.axvline(x=nine2, color=\"orange\")\n",
    "plt.text(nine2+1000,0.0000700,\"Top 1%\\nArticles\", fontsize=15)\n",
    "plt.axvspan(nine2, 200000, alpha=0.05, color='orange')\n",
    "plt.show()"
   ]
  },
  {
   "cell_type": "markdown",
   "metadata": {},
   "source": [
    "## 0.1% of articles by consistent authors receive 15k claps.\n"
   ]
  },
  {
   "cell_type": "code",
   "execution_count": 17,
   "metadata": {},
   "outputs": [
    {
     "data": {
      "image/png": "[encoded data removed]",
      "text/plain": [
       "<Figure size 864x432 with 1 Axes>"
      ]
     },
     "metadata": {},
     "output_type": "display_data"
    }
   ],
   "source": [
    "nine2 = restrictMedium.Claps.quantile(q=0.99)\n",
    "nine3 = restrictMedium.Claps.quantile(q=0.999)\n",
    "\n",
    "bins = [0,5,10, 25, 50, 125, 250, 500, 1000, 2500, 5000, 7500, 10000, 20000, 40000, 250000]\n",
    "\n",
    "\n",
    "plt.figure(figsize=(12,6))\n",
    "sns.kdeplot(restrictMedium.Claps, shade=True, legend=False, clip=[-1,20000], color=\"mediumseagreen\")\n",
    "\n",
    "plt.title(\"Distribution of Claps Across Medium's Consistent Writers\")\n",
    "plt.ylabel(\"Article Frequency\")\n",
    "plt.xlabel(\"Claps\")\n",
    "plt.xlim(0,20000)\n",
    "plt.xticks([0,nine2,10000,nine3,20000])\n",
    "plt.yticks([])\n",
    "\n",
    "plt.axvline(x=nine2, color=\"orange\")\n",
    "plt.axvspan(nine2, 50000, alpha=0.05, color='orange')\n",
    "\n",
    "plt.axvline(x=nine3, color=\"green\")\n",
    "plt.axvspan(nine3, 50000, alpha=0.1, color='green')\n",
    "\n",
    "plt.text(nine2+2000,0.0000600,\"Top 1%\\nArticles\", fontsize=15)\n",
    "plt.text(nine3+2000,0.0000600,\"Top 0.1%\\nArticles\", fontsize=15)\n",
    "\n",
    "plt.show()"
   ]
  }
 ],
 "metadata": {
  "kernelspec": {
   "display_name": "Python [conda env:py36]",
   "language": "python",
   "name": "conda-env-py36-py"
  },
  "language_info": {
   "codemirror_mode": {
    "name": "ipython",
    "version": 3
   },
   "file_extension": ".py",
   "mimetype": "text/x-python",
   "name": "python",
   "nbconvert_exporter": "python",
   "pygments_lexer": "ipython3",
   "version": "3.6.5"
  }
 },
 "nbformat": 4,
 "nbformat_minor": 2
}
